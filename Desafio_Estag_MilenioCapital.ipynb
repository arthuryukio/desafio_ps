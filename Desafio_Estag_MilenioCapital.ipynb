{
 "cells": [
  {
   "cell_type": "markdown",
   "id": "055c714b",
   "metadata": {},
   "source": [
    "<h1 style=\"font-size:3rem;color:orange;\">Jupyter Notebook</h1>"
   ]
  },
  {
   "cell_type": "markdown",
   "id": "c97ff234",
   "metadata": {},
   "source": [
    "# Python Tutorial"
   ]
  },
  {
   "cell_type": "code",
   "execution_count": 384,
   "id": "b9eaf0ee",
   "metadata": {},
   "outputs": [],
   "source": [
    "import pandas as pd\n",
    "import os\n",
    "import requests\n",
    "from datetime import datetime, date, timedelta\n",
    "import matplotlib.pyplot as plt\n",
    "import numpy as np\n",
    "import ipywidgets as widgets\n",
    "from IPython.display import display, clear_output\n",
    "import math\n",
    "import urllib.request, json "
   ]
  },
  {
   "cell_type": "code",
   "execution_count": 393,
   "id": "bc0f51e9",
   "metadata": {},
   "outputs": [
    {
     "name": "stdout",
     "output_type": "stream",
     "text": [
      "['contratoA.json', 'contratoB.json', 'contratoC.json', 'contratoD.json', 'contratoE.json', 'contratoF.json', 'contratoG.json']\n",
      "\n",
      "Empty DataFrame\n",
      "Columns: [contract, emission_price, start_date, index, spread, schedules]\n",
      "Index: []\n",
      "\n"
     ]
    },
    {
     "data": {
      "text/html": [
       "<div>\n",
       "<style scoped>\n",
       "    .dataframe tbody tr th:only-of-type {\n",
       "        vertical-align: middle;\n",
       "    }\n",
       "\n",
       "    .dataframe tbody tr th {\n",
       "        vertical-align: top;\n",
       "    }\n",
       "\n",
       "    .dataframe thead th {\n",
       "        text-align: right;\n",
       "    }\n",
       "</style>\n",
       "<table border=\"1\" class=\"dataframe\">\n",
       "  <thead>\n",
       "    <tr style=\"text-align: right;\">\n",
       "      <th></th>\n",
       "      <th>contract</th>\n",
       "      <th>emission_price</th>\n",
       "      <th>start_date</th>\n",
       "      <th>index</th>\n",
       "      <th>spread</th>\n",
       "      <th>schedules</th>\n",
       "    </tr>\n",
       "  </thead>\n",
       "  <tbody>\n",
       "    <tr>\n",
       "      <th>0</th>\n",
       "      <td>A</td>\n",
       "      <td>1000</td>\n",
       "      <td>2018-01-02</td>\n",
       "      <td>PRE</td>\n",
       "      <td>0.050000</td>\n",
       "      <td>[{'due_date': '2025-08-20', 'amount': 1}]</td>\n",
       "    </tr>\n",
       "    <tr>\n",
       "      <th>1</th>\n",
       "      <td>B</td>\n",
       "      <td>500</td>\n",
       "      <td>2019-10-07</td>\n",
       "      <td>PRE</td>\n",
       "      <td>0.070000</td>\n",
       "      <td>[{'due_date': '2020-01-31', 'amount': 0.2}, {'...</td>\n",
       "    </tr>\n",
       "    <tr>\n",
       "      <th>2</th>\n",
       "      <td>C</td>\n",
       "      <td>10000</td>\n",
       "      <td>2020-03-02</td>\n",
       "      <td>PRE</td>\n",
       "      <td>0.120000</td>\n",
       "      <td>[{'due_date': '2020-06-01', 'amount': 0.1}, {'...</td>\n",
       "    </tr>\n",
       "    <tr>\n",
       "      <th>3</th>\n",
       "      <td>D</td>\n",
       "      <td>2000</td>\n",
       "      <td>2015-08-17</td>\n",
       "      <td>PRE</td>\n",
       "      <td>0.120000</td>\n",
       "      <td>[{'due_date': '2018-08-15', 'amount': 0.1}, {'...</td>\n",
       "    </tr>\n",
       "    <tr>\n",
       "      <th>4</th>\n",
       "      <td>E</td>\n",
       "      <td>1</td>\n",
       "      <td>2020-06-22</td>\n",
       "      <td>PRE</td>\n",
       "      <td>0.120000</td>\n",
       "      <td>[{'due_date': '2023-06-20', 'amount': 0.25}, {...</td>\n",
       "    </tr>\n",
       "    <tr>\n",
       "      <th>5</th>\n",
       "      <td>ABEV11</td>\n",
       "      <td>1000000</td>\n",
       "      <td>2015-11-03</td>\n",
       "      <td>PRE</td>\n",
       "      <td>0.144760</td>\n",
       "      <td>[{'due_date': '2021-10-30', 'amount': 1}]</td>\n",
       "    </tr>\n",
       "    <tr>\n",
       "      <th>6</th>\n",
       "      <td>AGAU21</td>\n",
       "      <td>10000</td>\n",
       "      <td>2020-02-03</td>\n",
       "      <td>PRE</td>\n",
       "      <td>0.124519</td>\n",
       "      <td>[{'due_date': '2026-01-10', 'amount': 1}]</td>\n",
       "    </tr>\n",
       "  </tbody>\n",
       "</table>\n",
       "</div>"
      ],
      "text/plain": [
       "  contract emission_price  start_date index    spread  \\\n",
       "0        A           1000  2018-01-02   PRE  0.050000   \n",
       "1        B            500  2019-10-07   PRE  0.070000   \n",
       "2        C          10000  2020-03-02   PRE  0.120000   \n",
       "3        D           2000  2015-08-17   PRE  0.120000   \n",
       "4        E              1  2020-06-22   PRE  0.120000   \n",
       "5   ABEV11        1000000  2015-11-03   PRE  0.144760   \n",
       "6   AGAU21          10000  2020-02-03   PRE  0.124519   \n",
       "\n",
       "                                           schedules  \n",
       "0          [{'due_date': '2025-08-20', 'amount': 1}]  \n",
       "1  [{'due_date': '2020-01-31', 'amount': 0.2}, {'...  \n",
       "2  [{'due_date': '2020-06-01', 'amount': 0.1}, {'...  \n",
       "3  [{'due_date': '2018-08-15', 'amount': 0.1}, {'...  \n",
       "4  [{'due_date': '2023-06-20', 'amount': 0.25}, {...  \n",
       "5          [{'due_date': '2021-10-30', 'amount': 1}]  \n",
       "6          [{'due_date': '2026-01-10', 'amount': 1}]  "
      ]
     },
     "execution_count": 393,
     "metadata": {},
     "output_type": "execute_result"
    }
   ],
   "source": [
    "path_to_json = r'C:\\Users\\arthu\\Projetos'\n",
    "json_files = [pos_json for pos_json in os.listdir(path_to_json) if pos_json.endswith('.json')]\n",
    "jsons_data = pd.DataFrame(columns=['contract', 'emission_price', 'start_date', 'index', 'spread', 'schedules'])\n",
    "\n",
    "print(json_files)\n",
    "print()\n",
    "print(jsons_data)\n",
    "print()\n",
    "\n",
    "for i, js in enumerate(json_files):\n",
    "    with open(os.path.join(path_to_json, js)) as json_file:\n",
    "        json_text = json.load(json_file)\n",
    "        contract = json_text['contract']\n",
    "        emission_price = json_text['emission_price']\n",
    "        start_date = json_text['start_date']\n",
    "        index = json_text['index']\n",
    "        spread = json_text['spread']\n",
    "        schedules = json_text['schedules']\n",
    "        jsons_data.loc[i] = [contract, emission_price, start_date, index, spread, schedules]\n",
    "\n",
    "jsons_data"
   ]
  },
  {
   "cell_type": "code",
   "execution_count": 374,
   "id": "4efca71e",
   "metadata": {},
   "outputs": [
    {
     "data": {
      "application/vnd.jupyter.widget-view+json": {
       "model_id": "554ee8bd1aaf4c1aa27aa8c4c4050bb3",
       "version_major": 2,
       "version_minor": 0
      },
      "text/plain": [
       "Dropdown(description='Selecione um contrato', index=1, options=('contratoA.json', 'contratoB.json', 'contratoC…"
      ]
     },
     "metadata": {},
     "output_type": "display_data"
    },
    {
     "data": {
      "application/vnd.jupyter.widget-view+json": {
       "model_id": "80e75809ffbe4f6d82216406caa5cd38",
       "version_major": 2,
       "version_minor": 0
      },
      "text/plain": [
       "DatePicker(value=datetime.datetime(2020, 12, 10, 0, 0), description='Selecione a data de calculo')"
      ]
     },
     "metadata": {},
     "output_type": "display_data"
    },
    {
     "data": {
      "application/vnd.jupyter.widget-view+json": {
       "model_id": "e400d680318448be89d7b581899f8dba",
       "version_major": 2,
       "version_minor": 0
      },
      "text/plain": [
       "Dropdown(options=('Calular PU de Operação (inserir taxa)', 'Calcular taxa (inserir PU de Operação)'), value='C…"
      ]
     },
     "metadata": {},
     "output_type": "display_data"
    },
    {
     "data": {
      "application/vnd.jupyter.widget-view+json": {
       "model_id": "35cf2cd5e3fb4821b8688f5e4f474f2f",
       "version_major": 2,
       "version_minor": 0
      },
      "text/plain": [
       "Text(value='1', placeholder='Taxa (%) / PU de Operação')"
      ]
     },
     "metadata": {},
     "output_type": "display_data"
    },
    {
     "data": {
      "application/vnd.jupyter.widget-view+json": {
       "model_id": "5ca2f336c239461c8b335ef262d7c99a",
       "version_major": 2,
       "version_minor": 0
      },
      "text/plain": [
       "Button(description='GO', style=ButtonStyle())"
      ]
     },
     "metadata": {},
     "output_type": "display_data"
    },
    {
     "name": "stdout",
     "output_type": "stream",
     "text": [
      "PU Par = 307.419961\n",
      "PU de Operação = 223.728565\n"
     ]
    },
    {
     "data": {
      "image/png": "[encoded data removed]",
      "text/plain": [
       "<Figure size 1080x360 with 1 Axes>"
      ]
     },
     "metadata": {
      "needs_background": "light"
     },
     "output_type": "display_data"
    },
    {
     "data": {
      "image/png": "[encoded data removed]",
      "text/plain": [
       "<Figure size 1080x360 with 1 Axes>"
      ]
     },
     "metadata": {
      "needs_background": "light"
     },
     "output_type": "display_data"
    },
    {
     "data": {
      "image/png": "[encoded data removed]",
      "text/plain": [
       "<Figure size 1080x360 with 1 Axes>"
      ]
     },
     "metadata": {
      "needs_background": "light"
     },
     "output_type": "display_data"
    }
   ],
   "source": [
    "dropdownContratos = widgets.Dropdown(description='Selecione um contrato', options=json_files)\n",
    "dataCalculo = widgets.DatePicker(description='Selecione a data de calculo',disabled=False)\n",
    "dropdownMetodo = widgets.Dropdown(placeholder='Selecionar método', options=['Calular PU de Operação (inserir taxa)','Calcular taxa (inserir PU de Operação)'])\n",
    "btn = widgets.Button(description='GO')\n",
    "valor = widgets.Text(placeholder='Taxa (%) / PU de Operação',disabled=False)\n",
    "\n",
    "dropdownContratos.value = 'contratoB.json'\n",
    "valor.value = '1'\n",
    "dataCalculo.value = datetime.fromisoformat('2020-12-10')\n",
    "\n",
    "display(dropdownContratos)\n",
    "display(dataCalculo)\n",
    "display(dropdownMetodo)\n",
    "display(valor)\n",
    "display(btn)\n",
    "\n",
    "def btn_eventhandler(obj):\n",
    "    if valor.value == \"\":\n",
    "        return\n",
    "    if dropdownMetodo.value == 'Calular PU de Operação (inserir taxa)':\n",
    "        GO()\n",
    "        \n",
    "btn.on_click(btn_eventhandler)"
   ]
  },
  {
   "cell_type": "code",
   "execution_count": 373,
   "id": "dd738e1b",
   "metadata": {},
   "outputs": [],
   "source": [
    "def GO():\n",
    "    dateparse = lambda x: datetime.strptime(x, '%Y-%m-%d')\n",
    "\n",
    "    df = pd.read_csv('https://raw.githubusercontent.com/arthuryukio/desafio_ps/main/feriados.csv', parse_dates=['Data'], date_parser=dateparse)\n",
    "    \n",
    "#     df = pd.read_csv('feriados.csv', parse_dates=['Data'], date_parser=dateparse)\n",
    "\n",
    "    contrato = jsons_data.loc[json_files.index(dropdownContratos.value)]\n",
    "\n",
    "    idContrato = contrato[0]\n",
    "\n",
    "    VNE = contrato[1]\n",
    "    VNA = VNE\n",
    "\n",
    "    dataEmiss = datetime.strptime(contrato[2], '%Y-%m-%d').date()\n",
    "\n",
    "    sp = contrato[4]\n",
    "\n",
    "    taxaNeg = np.float64(valor.value)/100\n",
    "\n",
    "    dueDates = contrato[5]\n",
    "    duTemp = 0;\n",
    "\n",
    "    PUPars = []\n",
    "\n",
    "    Js = []\n",
    "    datas = []\n",
    "    amortizacao = []\n",
    "    VNAs = []\n",
    "    dus = []\n",
    "    PUOperacaos = []\n",
    "\n",
    "    du = 0\n",
    "    A = 0\n",
    "    J = 0\n",
    "    jurosTotal = 0\n",
    "\n",
    "    for n in range(len(dueDates)):\n",
    "\n",
    "        if n == 0:\n",
    "            inicio = dataEmiss\n",
    "            fim = datetime.strptime(dueDates[n].get('due_date'), '%Y-%m-%d').date()\n",
    "        else:\n",
    "            inicio = datetime.strptime(dueDates[n-1].get('due_date'), '%Y-%m-%d').date() + timedelta(days=1)\n",
    "            fim = datetime.strptime(dueDates[n].get('due_date'), '%Y-%m-%d').date()\n",
    "\n",
    "        taxaAmort = dueDates[n].get('amount')\n",
    "\n",
    "        for i in pd.date_range(inicio, fim, freq='D'):\n",
    "\n",
    "            if i.weekday() < 5:\n",
    "\n",
    "                if i not in set(df['Data']):\n",
    "                    datas.append(i)\n",
    "\n",
    "                    if i == fim:\n",
    "                        amortizacao.append(\"SIM\")\n",
    "                        J = VNA*((1+sp)**((du)/252)-1)\n",
    "                        jurosTotal += J\n",
    "                        A += VNE*taxaAmort\n",
    "                        VNA = VNE - A\n",
    "                        du = 0\n",
    "                        PUPar = VNA*((1 + sp)**(du/252))\n",
    "                    else:\n",
    "                        amortizacao.append(\"NAO\")\n",
    "                        PUPar = VNA*((1 + sp)**(du/252))\n",
    "                        J = VNA*((1+sp)**((du)/252)-1)\n",
    "\n",
    "\n",
    "                    PUPars.append(PUPar)\n",
    "                    Js.append(J)\n",
    "                    VNAs.append(VNA)\n",
    "\n",
    "                    PUOperacao = (jurosTotal / ((1+taxaNeg)**(du/252))) + (A / ((1+taxaNeg)**(du/252)))\n",
    "\n",
    "                    PUOperacaos.append(PUOperacao)\n",
    "\n",
    "                    du += 1\n",
    "                    dus.append(du)\n",
    "\n",
    "\n",
    "\n",
    "#     for k in range(len(PUPars)):\n",
    "#         print(amortizacao[k], datas[k], \"{:.6f}\".format(PUPars[k]), \"{:.6f}\".format(Js[k]), \"{:.0f}\".format(VNAs[k]), PUOperacaos[k], dus[k])\n",
    "#         print()\n",
    "\n",
    "    print('PU Par =', truncate(PUPars[datas.index(dataCalculo.value)], 6))\n",
    "    print('PU de Operação =', truncate(PUOperacaos[datas.index(dataCalculo.value)], 6))\n",
    "    \n",
    "    plt.figure(figsize=(15,5))\n",
    "    plt.plot(datas, np.array(PUPars))\n",
    "    plt.title('PU Par')\n",
    "    plt.grid()\n",
    "    plt.figure(figsize=(15,5))\n",
    "    plt.plot(datas, np.array(Js))\n",
    "    plt.title('Juros')\n",
    "    plt.grid()\n",
    "    plt.figure(figsize=(15,5))\n",
    "    plt.plot(datas, np.array(PUOperacaos))\n",
    "    plt.title('PU Operações')\n",
    "    plt.grid()"
   ]
  },
  {
   "cell_type": "code",
   "execution_count": 354,
   "id": "e53a0b23",
   "metadata": {},
   "outputs": [],
   "source": [
    "def truncate(number, decimals=0):\n",
    "    \"\"\"\n",
    "    Returns a value truncated to a specific number of decimal places.\n",
    "    \"\"\"\n",
    "    if not isinstance(decimals, int):\n",
    "        raise TypeError(\"decimal places must be an integer.\")\n",
    "    elif decimals < 0:\n",
    "        raise ValueError(\"decimal places has to be 0 or more.\")\n",
    "    elif decimals == 0:\n",
    "        return math.trunc(number)\n",
    "\n",
    "    factor = 10.0 ** decimals\n",
    "    return math.trunc(number * factor) / factor"
   ]
  },
  {
   "cell_type": "code",
   "execution_count": 372,
   "id": "195e42d8",
   "metadata": {},
   "outputs": [
    {
     "data": {
      "text/html": [
       "<div>\n",
       "<style scoped>\n",
       "    .dataframe tbody tr th:only-of-type {\n",
       "        vertical-align: middle;\n",
       "    }\n",
       "\n",
       "    .dataframe tbody tr th {\n",
       "        vertical-align: top;\n",
       "    }\n",
       "\n",
       "    .dataframe thead th {\n",
       "        text-align: right;\n",
       "    }\n",
       "</style>\n",
       "<table border=\"1\" class=\"dataframe\">\n",
       "  <thead>\n",
       "    <tr style=\"text-align: right;\">\n",
       "      <th></th>\n",
       "      <th>Data</th>\n",
       "      <th>Dia da Semana</th>\n",
       "      <th>Feriado</th>\n",
       "    </tr>\n",
       "  </thead>\n",
       "  <tbody>\n",
       "    <tr>\n",
       "      <th>0</th>\n",
       "      <td>2001-01-01</td>\n",
       "      <td>segunda-feira</td>\n",
       "      <td>Confraternização Universal</td>\n",
       "    </tr>\n",
       "    <tr>\n",
       "      <th>1</th>\n",
       "      <td>2001-02-26</td>\n",
       "      <td>segunda-feira</td>\n",
       "      <td>Carnaval</td>\n",
       "    </tr>\n",
       "    <tr>\n",
       "      <th>2</th>\n",
       "      <td>2001-02-27</td>\n",
       "      <td>terça-feira</td>\n",
       "      <td>Carnaval</td>\n",
       "    </tr>\n",
       "    <tr>\n",
       "      <th>3</th>\n",
       "      <td>2001-04-13</td>\n",
       "      <td>sexta-feira</td>\n",
       "      <td>Paixão de Cristo</td>\n",
       "    </tr>\n",
       "    <tr>\n",
       "      <th>4</th>\n",
       "      <td>2001-04-21</td>\n",
       "      <td>sábado</td>\n",
       "      <td>Tiradentes</td>\n",
       "    </tr>\n",
       "    <tr>\n",
       "      <th>...</th>\n",
       "      <td>...</td>\n",
       "      <td>...</td>\n",
       "      <td>...</td>\n",
       "    </tr>\n",
       "    <tr>\n",
       "      <th>931</th>\n",
       "      <td>2078-09-07</td>\n",
       "      <td>quarta-feira</td>\n",
       "      <td>Independência do Brasil</td>\n",
       "    </tr>\n",
       "    <tr>\n",
       "      <th>932</th>\n",
       "      <td>2078-10-12</td>\n",
       "      <td>quarta-feira</td>\n",
       "      <td>Nossa Sr.a Aparecida - Padroeira do Brasil</td>\n",
       "    </tr>\n",
       "    <tr>\n",
       "      <th>933</th>\n",
       "      <td>2078-11-02</td>\n",
       "      <td>quarta-feira</td>\n",
       "      <td>Finados</td>\n",
       "    </tr>\n",
       "    <tr>\n",
       "      <th>934</th>\n",
       "      <td>2078-11-15</td>\n",
       "      <td>terça-feira</td>\n",
       "      <td>Proclamação da República</td>\n",
       "    </tr>\n",
       "    <tr>\n",
       "      <th>935</th>\n",
       "      <td>2078-12-25</td>\n",
       "      <td>quarta-feira</td>\n",
       "      <td>Natal</td>\n",
       "    </tr>\n",
       "  </tbody>\n",
       "</table>\n",
       "<p>936 rows × 3 columns</p>\n",
       "</div>"
      ],
      "text/plain": [
       "           Data   Dia da Semana                                      Feriado\n",
       "0    2001-01-01   segunda-feira                   Confraternização Universal\n",
       "1    2001-02-26   segunda-feira                                     Carnaval\n",
       "2    2001-02-27     terça-feira                                     Carnaval\n",
       "3    2001-04-13     sexta-feira                             Paixão de Cristo\n",
       "4    2001-04-21          sábado                                   Tiradentes\n",
       "..          ...             ...                                          ...\n",
       "931  2078-09-07    quarta-feira                      Independência do Brasil\n",
       "932  2078-10-12    quarta-feira   Nossa Sr.a Aparecida - Padroeira do Brasil\n",
       "933  2078-11-02    quarta-feira                                      Finados\n",
       "934  2078-11-15     terça-feira                     Proclamação da República\n",
       "935  2078-12-25    quarta-feira                                        Natal\n",
       "\n",
       "[936 rows x 3 columns]"
      ]
     },
     "execution_count": 372,
     "metadata": {},
     "output_type": "execute_result"
    }
   ],
   "source": [
    "data = pd.read_csv('https://raw.githubusercontent.com/arthuryukio/desafio_ps/main/feriados.csv')\n",
    "\n",
    "data"
   ]
  },
  {
   "cell_type": "code",
   "execution_count": null,
   "id": "af5b1869",
   "metadata": {},
   "outputs": [],
   "source": []
  },
  {
   "cell_type": "code",
   "execution_count": null,
   "id": "5cd325a8",
   "metadata": {},
   "outputs": [],
   "source": []
  },
  {
   "cell_type": "code",
   "execution_count": null,
   "id": "74c8683c",
   "metadata": {},
   "outputs": [],
   "source": []
  }
 ],
 "metadata": {
  "kernelspec": {
   "display_name": "Python 3",
   "language": "python",
   "name": "python3"
  },
  "language_info": {
   "codemirror_mode": {
    "name": "ipython",
    "version": 3
   },
   "file_extension": ".py",
   "mimetype": "text/x-python",
   "name": "python",
   "nbconvert_exporter": "python",
   "pygments_lexer": "ipython3",
   "version": "3.8.8"
  }
 },
 "nbformat": 4,
 "nbformat_minor": 5
}
